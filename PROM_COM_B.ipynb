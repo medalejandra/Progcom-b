{
  "nbformat": 4,
  "nbformat_minor": 0,
  "metadata": {
    "colab": {
      "provenance": [],
      "authorship_tag": "ABX9TyPqeojGYCbAGox6ZxH0X4HR",
      "include_colab_link": true
    },
    "kernelspec": {
      "name": "python3",
      "display_name": "Python 3"
    },
    "language_info": {
      "name": "python"
    }
  },
  "cells": [
    {
      "cell_type": "markdown",
      "metadata": {
        "id": "view-in-github",
        "colab_type": "text"
      },
      "source": [
        "<a href=\"https://colab.research.google.com/github/medalejandra/Progcom-b/blob/main/PROM_COM_B.ipynb\" target=\"_parent\"><img src=\"https://colab.research.google.com/assets/colab-badge.svg\" alt=\"Open In Colab\"/></a>"
      ]
    },
    {
      "cell_type": "markdown",
      "source": [
        "20."
      ],
      "metadata": {
        "id": "72u5nCfPnaC1"
      }
    },
    {
      "cell_type": "code",
      "source": [
        "import random\n",
        "\n",
        "colores = [input(f\"Ingrese el color {i+1}: \") for i in range(10)]\n",
        "\n",
        "color_secreto = random.choice(colores)\n",
        "\n",
        "\n",
        "max_intentos = 10\n",
        "es_correcto = lambda intento: intento == color_secreto\n",
        "\n",
        "print(\"\\n¡Intenta adivinar el color secreto!\\n\")\n",
        "for intento in range(max_intentos):\n",
        "    respuesta = input(f\"Intento {intento+1}/{max_intentos}: \").strip()\n",
        "\n",
        "    if es_correcto(respuesta):\n",
        "        print(f\"¡Correcto! El color secreto era '{color_secreto}'.\")\n",
        "        break\n",
        "    else:\n",
        "        print(\"Incorrecto. Intenta de nuevo.\")\n",
        "\n",
        "else:\n",
        "    print(f\"No lo lograste. El color secreto era '{color_secreto}'.\")"
      ],
      "metadata": {
        "colab": {
          "base_uri": "https://localhost:8080/"
        },
        "id": "rR7XEDRYoQPp",
        "outputId": "30873071-e0a5-4755-d02c-dfba4c324f08"
      },
      "execution_count": null,
      "outputs": [
        {
          "output_type": "stream",
          "name": "stdout",
          "text": [
            "Ingrese el color 1: blanco\n",
            "Ingrese el color 2: negro\n",
            "Ingrese el color 3: rojo\n",
            "Ingrese el color 4: azul\n",
            "Ingrese el color 5: amarillo\n",
            "Ingrese el color 6: verde\n",
            "Ingrese el color 7: rosa\n",
            "Ingrese el color 8: naranja\n",
            "Ingrese el color 9: morado\n",
            "Ingrese el color 10: aguamarina\n",
            "\n",
            "¡Intenta adivinar el color secreto!\n",
            "\n",
            "Intento 1/10: azul\n",
            "Incorrecto. Intenta de nuevo.\n",
            "Intento 2/10: rojo\n",
            "Incorrecto. Intenta de nuevo.\n",
            "Intento 3/10: aguamarina\n",
            "Incorrecto. Intenta de nuevo.\n",
            "Intento 4/10: rosa\n",
            "Incorrecto. Intenta de nuevo.\n",
            "Intento 5/10: naranja\n",
            "Incorrecto. Intenta de nuevo.\n",
            "Intento 6/10: blanco\n",
            "Incorrecto. Intenta de nuevo.\n",
            "Intento 7/10: negro\n",
            "Incorrecto. Intenta de nuevo.\n",
            "Intento 8/10: morado\n",
            "Incorrecto. Intenta de nuevo.\n",
            "Intento 9/10: verde\n",
            "Incorrecto. Intenta de nuevo.\n",
            "Intento 10/10: amarillo\n",
            "¡Correcto! El color secreto era 'amarillo'.\n"
          ]
        }
      ]
    },
    {
      "cell_type": "code",
      "source": [
        "import random\n",
        "\n",
        "colores = [input(f\"Ingrese el color {i+1}: \") for i in range(10)]\n",
        "\n",
        "color_secreto = random.choice(colores)\n",
        "\n",
        "print(\"\\n¡Intenta adivinar el color secreto!\\n\")\n",
        "\n",
        "intentos = [input(f\"Intento {i+1}/10: \") for i in range(10)\n",
        "            if input(f\"Intento {i+1}/10: \") != color_secreto]\n",
        "\n",
        "[print(f\" No lo lograste. El color secreto era '{color_secreto}'.\")] if len(intentos) == 10 else [print(\"¡Correcto!\")]"
      ],
      "metadata": {
        "id": "vHUtx9s3vt9U"
      },
      "execution_count": null,
      "outputs": []
    },
    {
      "cell_type": "markdown",
      "source": [
        "21."
      ],
      "metadata": {
        "id": "uK9AVZA8qv05"
      }
    },
    {
      "cell_type": "code",
      "source": [
        "\n",
        "pares = list(filter(lambda x: x % 2 == 0, range(1, 101)))\n",
        "print(pares)"
      ],
      "metadata": {
        "colab": {
          "base_uri": "https://localhost:8080/"
        },
        "id": "wK24RfQBqyJA",
        "outputId": "1198d0ae-a345-476f-846b-6c530fd020e3"
      },
      "execution_count": null,
      "outputs": [
        {
          "output_type": "stream",
          "name": "stdout",
          "text": [
            "[2, 4, 6, 8, 10, 12, 14, 16, 18, 20, 22, 24, 26, 28, 30, 32, 34, 36, 38, 40, 42, 44, 46, 48, 50, 52, 54, 56, 58, 60, 62, 64, 66, 68, 70, 72, 74, 76, 78, 80, 82, 84, 86, 88, 90, 92, 94, 96, 98, 100]\n"
          ]
        }
      ]
    },
    {
      "cell_type": "code",
      "source": [
        "\n",
        "pares = [x for x in range(1, 101) if x % 2 == 0]\n",
        "print(pares)"
      ],
      "metadata": {
        "id": "4IwU9U01sUzH"
      },
      "execution_count": null,
      "outputs": []
    },
    {
      "cell_type": "markdown",
      "source": [
        "\n",
        "22\n",
        "\n"
      ],
      "metadata": {
        "id": "_f5BI8vVudkl"
      }
    },
    {
      "cell_type": "code",
      "source": [
        "numero = int(input(\"Ingrese un número: \"))\n",
        "suma_digitos = sum([int(digito) for digito in str(numero)])\n",
        "print(f\"La suma de los dígitos de {numero} es: {suma_digitos}\")\n"
      ],
      "metadata": {
        "colab": {
          "base_uri": "https://localhost:8080/"
        },
        "id": "1Iu4JM9ouxTV",
        "outputId": "b18163b8-183d-4a83-a6d2-6da97c68e390"
      },
      "execution_count": 15,
      "outputs": [
        {
          "output_type": "stream",
          "name": "stdout",
          "text": [
            "Ingrese un número: 322\n",
            "La suma de los dígitos de 322 es: 7\n"
          ]
        }
      ]
    },
    {
      "cell_type": "code",
      "source": [
        "suma_digitos = lambda num: sum(map(int, str(num)))\n",
        "numero = int(input(\"Ingrese un número: \"))\n",
        "print(f\"La suma de los dígitos de {numero} es: {suma_digitos(numero)}\")"
      ],
      "metadata": {
        "id": "qHj-Sf8xudAl"
      },
      "execution_count": null,
      "outputs": []
    },
    {
      "cell_type": "markdown",
      "source": [
        "23"
      ],
      "metadata": {
        "id": "8FI1-2gXu41E"
      }
    },
    {
      "cell_type": "code",
      "source": [
        "es_primo = lambda num: num > 1 and all(num % i != 0 for i in range(2, int(num**0.5) + 1))\n",
        "numero = int(input(\"Ingrese un número: \"))\n",
        "print(f\"El número {numero} {'es primo' if es_primo(numero) else 'no es primo'}.\")"
      ],
      "metadata": {
        "colab": {
          "base_uri": "https://localhost:8080/"
        },
        "id": "PdmIYknpvZv9",
        "outputId": "74bfe67a-4bd9-4561-fd73-1cd58b945168"
      },
      "execution_count": 16,
      "outputs": [
        {
          "output_type": "stream",
          "name": "stdout",
          "text": [
            "Ingrese un número: 8\n",
            "El número 8 no es primo.\n"
          ]
        }
      ]
    },
    {
      "cell_type": "code",
      "source": [
        "numero = int(input(\"Ingrese un número: \"))\n",
        "es_primo = numero > 1 and all([numero % i != 0 for i in range(2, int(numero**0.5) + 1)])\n",
        "print(f\"El número {numero} {'es primo' if es_primo else 'no es primo'}.\")"
      ],
      "metadata": {
        "id": "S0ZJKXQVwDBs"
      },
      "execution_count": null,
      "outputs": []
    },
    {
      "cell_type": "markdown",
      "source": [
        "24.\n"
      ],
      "metadata": {
        "id": "0PzEkqi5wUO0"
      }
    },
    {
      "cell_type": "code",
      "source": [
        "triangulo = lambda n: '\\n'.join(['*' * i for i in range(1, n + 1)])\n",
        "altura = int(input(\"Ingrese la altura del triángulo: \"))\n",
        "print(triangulo(altura))"
      ],
      "metadata": {
        "id": "qNNLAYFawV6i"
      },
      "execution_count": null,
      "outputs": []
    },
    {
      "cell_type": "code",
      "source": [
        "altura = int(input(\"Ingrese la altura del triángulo: \"))\n",
        "triangulo = '\\n'.join(['*' * i for i in range(1, altura + 1)])\n",
        "print(triangulo)"
      ],
      "metadata": {
        "id": "bIJckCZmxO0r"
      },
      "execution_count": null,
      "outputs": []
    },
    {
      "cell_type": "markdown",
      "source": [
        "25"
      ],
      "metadata": {
        "id": "741r89dsxeLy"
      }
    },
    {
      "cell_type": "code",
      "source": [
        "\n",
        "potencia = lambda base, exponente: 1 if exponente == 0 else base * potencia(base, exponente - 1)\n",
        "base = int(input(\"Ingrese la base: \"))\n",
        "exponente = int(input(\"Ingrese el exponente: \"))\n",
        "print(f\"{base}^{exponente} = {potencia(base, exponente)}\")\n"
      ],
      "metadata": {
        "id": "Tm545oSRxfWa"
      },
      "execution_count": null,
      "outputs": []
    },
    {
      "cell_type": "code",
      "source": [
        "\n",
        "base = int(input(\"Ingrese la base: \"))\n",
        "exponente = int(input(\"Ingrese el exponente: \"))\n",
        "potencia = 1 if exponente == 0 else [base for _ in range(exponente)]\n",
        "resultado = 1\n",
        "for num in potencia:\n",
        "    resultado *= num\n",
        "print(f\"{base}^{exponente} = {resultado}\")"
      ],
      "metadata": {
        "id": "HopJONWByGDh"
      },
      "execution_count": null,
      "outputs": []
    },
    {
      "cell_type": "markdown",
      "source": [
        "26"
      ],
      "metadata": {
        "id": "_GNKnFY_yrKR"
      }
    },
    {
      "cell_type": "code",
      "source": [
        "tabla = lambda n: [f\"{n} x {i} = {n * i}\" for i in range(1, 11)]\n",
        "for num in range(1, 11):\n",
        "    print(f\"\\nTabla del {num}:\")\n",
        "    print(\"\\n\".join(tabla(num)))"
      ],
      "metadata": {
        "id": "WaBrA1c1ysiR"
      },
      "execution_count": null,
      "outputs": []
    },
    {
      "cell_type": "code",
      "source": [
        "tablas = [[f\"{num} x {i} = {num * i}\" for i in range(1, 11)] for num in range(1, 11)]\n",
        "for num, tabla in enumerate(tablas, start=1):\n",
        "    print(f\"\\nTabla del {num}:\")\n",
        "    print(\"\\n\".join(tabla))"
      ],
      "metadata": {
        "id": "HswbsuZMzJt4"
      },
      "execution_count": null,
      "outputs": []
    },
    {
      "cell_type": "markdown",
      "source": [
        "27"
      ],
      "metadata": {
        "id": "6A6Y0dbDzVYp"
      }
    },
    {
      "cell_type": "code",
      "source": [
        "es_perfecto = lambda num: num > 0 and sum(i for i in range(1, num) if num % i == 0) == num\n",
        "numeros_perfectos = lambda n: [num for num in range(1, n + 1) if es_perfecto(num)]\n",
        "n = int(input(\"Ingrese el valor de n: \"))\n",
        "print(f\"Números perfectos hasta {n}: {numeros_perfectos(n)}\")"
      ],
      "metadata": {
        "id": "SiIVXPfizZDC"
      },
      "execution_count": null,
      "outputs": []
    },
    {
      "cell_type": "code",
      "source": [
        "n = int(input(\"Ingrese el valor de n: \"))\n",
        "numeros_perfectos = [num for num in range(1, n + 1) if sum([i for i in range(1, num) if num % i == 0]) == num]\n",
        "print(f\"Números perfectos hasta {n}: {numeros_perfectos}\")"
      ],
      "metadata": {
        "id": "l3Oxmapsz3UQ"
      },
      "execution_count": null,
      "outputs": []
    },
    {
      "cell_type": "markdown",
      "source": [
        "28"
      ],
      "metadata": {
        "id": "hoVdBSMi0D2_"
      }
    },
    {
      "cell_type": "code",
      "source": [
        "parte_superior = lambda n: [' ' * (n - i) + '*' * (2 * i - 1) for i in range(1, n + 1)]\n",
        "parte_inferior = lambda n: [' ' * (n - i) + '*' * (2 * i - 1) for i in range(n - 1, 0, -1)]\n",
        "diamante = lambda n: '\\n'.join(parte_superior(n) + parte_inferior(n))\n",
        "altura = int(input(\"Ingrese la altura del diamante: \"))\n",
        "print(diamante(altura))"
      ],
      "metadata": {
        "id": "uBZhSKak0Ft3"
      },
      "execution_count": null,
      "outputs": []
    },
    {
      "cell_type": "code",
      "source": [
        "n = int(input(\"Ingrese la altura del diamante: \"))\n",
        "parte_superior = [' ' * (n - i) + '*' * (2 * i - 1) for i in range(1, n + 1)]\n",
        "parte_inferior = [' ' * (n - i) + '*' * (2 * i - 1) for i in range(n - 1, 0, -1)]\n",
        "print('\\n'.join(parte_superior + parte_inferior))"
      ],
      "metadata": {
        "id": "z86Ilr940F7f"
      },
      "execution_count": null,
      "outputs": []
    },
    {
      "cell_type": "markdown",
      "source": [
        "29"
      ],
      "metadata": {
        "id": "4eD-2BuZ0GN-"
      }
    },
    {
      "cell_type": "code",
      "source": [
        "es_armstrong = lambda num: num == sum(int(digito) ** len(str(num)) for digito in str(num))\n",
        "numeros_armstrong = lambda n: [num for num in range(n + 1) if es_armstrong(num)]\n",
        "n = int(input(\"Ingrese el valor de n: \"))\n",
        "print(f\"Números de Armstrong hasta {n}: {numeros_armstrong(n)}\")"
      ],
      "metadata": {
        "id": "mLv45F9y0HTv"
      },
      "execution_count": null,
      "outputs": []
    },
    {
      "cell_type": "code",
      "source": [
        "n = int(input(\"Ingrese el valor de n: \"))\n",
        "numeros_armstrong = [num for num in range(n + 1) if num == sum([int(digito) ** len(str(num)) for digito in str(num)])]\n",
        "print(f\"Números de Armstrong hasta {n}: {numeros_armstrong}\")"
      ],
      "metadata": {
        "id": "T4AttI9N0Hcw"
      },
      "execution_count": null,
      "outputs": []
    },
    {
      "cell_type": "markdown",
      "source": [
        "30"
      ],
      "metadata": {
        "id": "zJX2HOBh0H0v"
      }
    },
    {
      "cell_type": "code",
      "source": [
        "import time\n",
        "formato_hora = lambda h, m, s: f\"{h:02}:{m:02}:{s:02}\"\n",
        "reloj_digital = lambda duracion: [\n",
        "    print(formato_hora(h, m, s)) or time.sleep(1)\n",
        "    for _ in range(duracion)\n",
        "    for h in range(24)\n",
        "    for m in range(60)\n",
        "    for s in range(60)\n",
        "duracion = int(input(\"Ingrese la duración de la simulación en segundos: \"))\n",
        "reloj_digital(duracion)"
      ],
      "metadata": {
        "id": "0Ta1Scdj0I83"
      },
      "execution_count": null,
      "outputs": []
    },
    {
      "cell_type": "code",
      "source": [
        "import time\n",
        "duracion = int(input(\"Ingrese la duración de la simulación en segundos: \"))\n",
        "[\n",
        "    print(f\"{h:02}:{m:02}:{s:02}\") or time.sleep(1)\n",
        "    for _ in range(duracion)\n",
        "    for h in range(24)\n",
        "    for m in range(60)\n",
        "    for s in range(60)\n",
        "]"
      ],
      "metadata": {
        "id": "XYYM2uwZ0JG3"
      },
      "execution_count": null,
      "outputs": []
    }
  ]
}