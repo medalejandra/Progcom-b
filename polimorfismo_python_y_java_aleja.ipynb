{
  "nbformat": 4,
  "nbformat_minor": 0,
  "metadata": {
    "colab": {
      "provenance": [],
      "authorship_tag": "ABX9TyPgzVm8RTi1LqpB8Z5jmFjk",
      "include_colab_link": true
    },
    "kernelspec": {
      "name": "python3",
      "display_name": "Python 3"
    },
    "language_info": {
      "name": "python"
    }
  },
  "cells": [
    {
      "cell_type": "markdown",
      "metadata": {
        "id": "view-in-github",
        "colab_type": "text"
      },
      "source": [
        "<a href=\"https://colab.research.google.com/github/medalejandra/Progcom-b/blob/main/polimorfismo_python_y_java_aleja.ipynb\" target=\"_parent\"><img src=\"https://colab.research.google.com/assets/colab-badge.svg\" alt=\"Open In Colab\"/></a>"
      ]
    },
    {
      "cell_type": "markdown",
      "source": [
        "taller en python\n",
        "1\n"
      ],
      "metadata": {
        "id": "m6Y_gVD9s2ei"
      }
    },
    {
      "cell_type": "code",
      "execution_count": null,
      "metadata": {
        "id": "IQS0_Tbarfvb"
      },
      "outputs": [],
      "source": [
        "# Clase base\n",
        "class Animal:\n",
        "    def hacer_sonido(self):\n",
        "        raise NotImplementedError(\"Este método debe ser implementado por una subclase\")\n",
        "\n",
        "# Clase derivada: Perro\n",
        "class Perro(Animal):\n",
        "    def hacer_sonido(self):\n",
        "        return \"¡Guau!\"\n",
        "\n",
        "# Clase derivada: Gato\n",
        "class Gato(Animal):\n",
        "    def hacer_sonido(self):\n",
        "        return \"¡Miau!\"\n",
        "\n",
        "# Ejemplo de uso\n",
        "if __name__ == \"__main__\":\n",
        "    perro = Perro()\n",
        "    gato = Gato()\n",
        "\n",
        "    print(\"El perro dice:\", perro.hacer_sonido())\n",
        "    print(\"El gato dice:\", gato.hacer_sonido())\n"
      ]
    },
    {
      "cell_type": "markdown",
      "source": [
        "2do"
      ],
      "metadata": {
        "id": "DI23Kptks-zz"
      }
    },
    {
      "cell_type": "code",
      "source": [
        "import math\n",
        "\n",
        "# Clase base\n",
        "class Forma:\n",
        "    def calcular_area(self):\n",
        "        raise NotImplementedError(\"Este método debe ser implementado por una subclase\")\n",
        "\n",
        "# Clase derivada: Circulo\n",
        "class Circulo(Forma):\n",
        "    def __init__(self, radio):\n",
        "        self.radio = radio\n",
        "\n",
        "    def calcular_area(self):\n",
        "        return math.pi * (self.radio ** 2)\n",
        "\n",
        "# Clase derivada: Rectangulo\n",
        "class Rectangulo(Forma):\n",
        "    def __init__(self, largo, ancho):\n",
        "        self.largo = largo\n",
        "        self.ancho = ancho\n",
        "\n",
        "    def calcular_area(self):\n",
        "        return self.largo * self.ancho\n",
        "\n",
        "# Ejemplo de uso\n",
        "if __name__ == \"__main__\":\n",
        "    circulo = Circulo(5)  # radio = 5\n",
        "    rectangulo = Rectangulo(4, 6)  # largo = 4, ancho = 6\n",
        "\n",
        "    print(f\"El área del círculo es: {circulo.calcular_area():.2f}\")\n",
        "    print(f\"El área del rectángulo es: {rectangulo.calcular_area()}\")\n"
      ],
      "metadata": {
        "id": "QxChtLr5rpoT"
      },
      "execution_count": null,
      "outputs": []
    },
    {
      "cell_type": "markdown",
      "source": [
        "3ro"
      ],
      "metadata": {
        "id": "fSCTzXB6tDOJ"
      }
    },
    {
      "cell_type": "code",
      "source": [
        "import math\n",
        "\n",
        "# Clase base\n",
        "class Forma:\n",
        "    def calcular_area(self):\n",
        "        raise NotImplementedError(\"Este método debe ser implementado por una subclase\")\n",
        "\n",
        "# Clase derivada: Círculo\n",
        "class Circulo(Forma):\n",
        "    def __init__(self, radio):\n",
        "        self.radio = radio\n",
        "\n",
        "    def calcular_area(self):\n",
        "        return math.pi * self.radio ** 2\n",
        "\n",
        "# Clase derivada: Rectángulo\n",
        "class Rectangulo(Forma):\n",
        "    def __init__(self, largo, ancho):\n",
        "        self.largo = largo\n",
        "        self.ancho = ancho\n",
        "\n",
        "    def calcular_area(self):\n",
        "        return self.largo * self.ancho\n",
        "\n",
        "# Ejemplo de uso\n",
        "if __name__ == \"__main__\":\n",
        "    # Crear instancias de las formas\n",
        "    mi_circulo = Circulo(3)        # Radio de 3 unidades\n",
        "    mi_rectangulo = Rectangulo(4, 5)  # Largo de 4 y ancho de 5 unidades\n",
        "\n",
        "    # Calcular y mostrar las áreas\n",
        "    print(f\"Área del círculo: {mi_circulo.calcular_area():.2f}\")\n",
        "    print(f\"Área del rectángulo: {mi_rectangulo.calcular_area()}\")\n"
      ],
      "metadata": {
        "id": "OtZfHP1Er42r"
      },
      "execution_count": null,
      "outputs": []
    },
    {
      "cell_type": "code",
      "source": [
        "4to"
      ],
      "metadata": {
        "id": "hbF5tL_LtGuT"
      },
      "execution_count": null,
      "outputs": []
    },
    {
      "cell_type": "code",
      "source": [
        "class Calculadora:\n",
        "    def operar(self, *args, operacion='sumar'):\n",
        "        if not args:\n",
        "            raise ValueError(\"Se necesitan al menos dos números\")\n",
        "\n",
        "        if operacion == 'sumar':\n",
        "            resultado = sum(args)\n",
        "        elif operacion == 'multiplicar':\n",
        "            resultado = 1\n",
        "            for num in args:\n",
        "                resultado *= num\n",
        "        else:\n",
        "            raise ValueError(\"Operación no soportada: elige 'sumar' o 'multiplicar'\")\n",
        "\n",
        "        return resultado\n",
        "\n",
        "# Ejemplo\n",
        "calc = Calculadora()\n",
        "print(\"Suma de varios: \", calc.operar(1, 2, 3, 4, 5))  # Resultado: 15\n",
        "print(\"Multiplicación de varios: \", calc.operar(2, 3, 4, operacion='multiplicar'))  # Resultado: 24\n"
      ],
      "metadata": {
        "id": "ZXFhY5izsE4C"
      },
      "execution_count": null,
      "outputs": []
    },
    {
      "cell_type": "markdown",
      "source": [
        "5to"
      ],
      "metadata": {
        "id": "pAzuf7Q7tJbq"
      }
    },
    {
      "cell_type": "code",
      "source": [
        "# Clase base\n",
        "class Figura:\n",
        "    def dibujar(self):\n",
        "        raise NotImplementedError(\"Este método debe ser implementado por las subclases.\")\n",
        "\n",
        "# Clase derivada: Circulo\n",
        "class Circulo(Figura):\n",
        "    def dibujar(self):\n",
        "        print(\"Dibujando un círculo.\")\n",
        "\n",
        "# Clase derivada: Rectangulo\n",
        "class Rectangulo(Figura):\n",
        "    def dibujar(self):\n",
        "        print(\"Dibujando un rectángulo.\")\n",
        "\n",
        "# Ejemplo de uso\n",
        "if __name__ == \"__main__\":\n",
        "    figuras = [Circulo(), Rectangulo()]\n",
        "\n",
        "    for figura in figuras:\n",
        "        figura.dibujar()\n"
      ],
      "metadata": {
        "id": "H-ngB2LUsWRK"
      },
      "execution_count": null,
      "outputs": []
    },
    {
      "cell_type": "code",
      "source": [
        "6to"
      ],
      "metadata": {
        "id": "PbKkmmRftLlq"
      },
      "execution_count": null,
      "outputs": []
    },
    {
      "cell_type": "code",
      "source": [
        "class Empleado:\n",
        "    def trabajar(self):\n",
        "        raise NotImplementedError(\"Este método debe ser implementado por una subclase.\")\n",
        "\n",
        "class Gerente(Empleado):\n",
        "    def trabajar(self):\n",
        "        return \"El gerente está organizando reuniones y gestionando al equipo.\"\n",
        "\n",
        "class Desarrollador(Empleado):\n",
        "    def trabajar(self):\n",
        "        return \"El desarrollador está escribiendo código.\"\n",
        "\n",
        "# Ejemplo\n",
        "empleados = [Gerente(), Desarrollador()]\n",
        "for emp in empleados:\n",
        "    print(emp.trabajar())\n"
      ],
      "metadata": {
        "id": "YU-lBvUCsj3j"
      },
      "execution_count": null,
      "outputs": []
    },
    {
      "cell_type": "code",
      "source": [
        "7mo"
      ],
      "metadata": {
        "id": "euetGayEtOvT"
      },
      "execution_count": null,
      "outputs": []
    },
    {
      "cell_type": "code",
      "source": [
        "class Fruta:\n",
        "    def describir(self):\n",
        "        raise NotImplementedError(\"Este método debe ser implementado por una subclase.\")\n",
        "\n",
        "class Manzana(Fruta):\n",
        "    def describir(self):\n",
        "        return \"La manzana es una fruta dulce y crujiente.\"\n",
        "\n",
        "class Naranja(Fruta):\n",
        "    def describir(self):\n",
        "        return \"La naranja es una fruta cítrica rica en vitamina C.\"\n",
        "\n",
        "# Ejemplo\n",
        "frutas = [Manzana(), Naranja()]\n",
        "for fruta in frutas:\n",
        "    print(fruta.describir())\n"
      ],
      "metadata": {
        "id": "6BL7YQxXsl6U"
      },
      "execution_count": null,
      "outputs": []
    },
    {
      "cell_type": "code",
      "source": [
        "8vo"
      ],
      "metadata": {
        "id": "5Dh0VC4LtQea"
      },
      "execution_count": null,
      "outputs": []
    },
    {
      "cell_type": "code",
      "source": [
        "class Pais:\n",
        "    def __init__(self, nombre, capital):\n",
        "        self.nombre = nombre\n",
        "        self.capital = capital\n",
        "\n",
        "    def mostrar_capital(self):\n",
        "        return f\"La capital de {self.nombre} es {self.capital}.\"\n",
        "\n",
        "# Ejemplo\n",
        "mexico = Pais(\"México\", \"Ciudad de México\")\n",
        "japon = Pais(\"Japón\", \"Tokio\")\n",
        "\n",
        "print(mexico.mostrar_capital())\n",
        "print(japon.mostrar_capital())\n"
      ],
      "metadata": {
        "id": "vKcYJ1Zosntq"
      },
      "execution_count": null,
      "outputs": []
    },
    {
      "cell_type": "code",
      "source": [
        "9"
      ],
      "metadata": {
        "id": "bj1AXSOJtSUa"
      },
      "execution_count": null,
      "outputs": []
    },
    {
      "cell_type": "code",
      "source": [
        "class Pais:\n",
        "    def idioma(self):\n",
        "        raise NotImplementedError(\"Este método debe ser implementado por una subclase.\")\n",
        "\n",
        "class Mexico(Pais):\n",
        "    def idioma(self):\n",
        "        return \"El idioma principal en México es el español.\"\n",
        "\n",
        "class Alemania(Pais):\n",
        "    def idioma(self):\n",
        "        return \"El idioma principal en Alemania es el alemán.\"\n",
        "\n",
        "# Ejemplo\n",
        "paises = [Mexico(), Alemania()]\n",
        "for pais in paises:\n",
        "    print(pais.idioma())\n"
      ],
      "metadata": {
        "id": "OYl1Otx4spci"
      },
      "execution_count": null,
      "outputs": []
    },
    {
      "cell_type": "markdown",
      "source": [
        "10"
      ],
      "metadata": {
        "id": "midzsrSFtWDz"
      }
    },
    {
      "cell_type": "code",
      "source": [
        "class Vehiculo:\n",
        "    def mover(self):\n",
        "        raise NotImplementedError(\"Este método debe ser implementado por una subclase.\")\n",
        "\n",
        "class Avion(Vehiculo):\n",
        "    def mover(self):\n",
        "        return \"El avión despega y vuela por el cielo.\"\n",
        "\n",
        "class Coche(Vehiculo):\n",
        "    def mover(self):\n",
        "        return \"El coche se mueve por la carretera.\"\n",
        "\n",
        "# Ejemplo\n",
        "vehiculos = [Avion(), Coche()]\n",
        "for v in vehiculos:\n",
        "    print(v.mover())\n"
      ],
      "metadata": {
        "id": "3IAf_vZqsrLj"
      },
      "execution_count": null,
      "outputs": []
    },
    {
      "cell_type": "markdown",
      "source": [
        "java\n",
        "1\n"
      ],
      "metadata": {
        "id": "zb9-WOGPtkZy"
      }
    },
    {
      "cell_type": "code",
      "source": [
        "abstract class Animal {\n",
        "    public abstract void hacerSonido();\n",
        "}\n",
        "\n",
        "class Perro extends Animal {\n",
        "    public void hacerSonido() {\n",
        "        System.out.println(\"¡Guau!\");\n",
        "    }\n",
        "}\n",
        "\n",
        "class Gato extends Animal {\n",
        "    public void hacerSonido() {\n",
        "        System.out.println(\"¡Miau!\");\n",
        "    }\n",
        "}\n"
      ],
      "metadata": {
        "id": "9JqQzV3YtoDZ"
      },
      "execution_count": null,
      "outputs": []
    },
    {
      "cell_type": "markdown",
      "source": [
        "2"
      ],
      "metadata": {
        "id": "hxiWDcoZtpWx"
      }
    },
    {
      "cell_type": "code",
      "source": [
        "abstract class Forma {\n",
        "    public abstract double calcularArea();\n",
        "}\n",
        "\n",
        "class Circulo extends Forma {\n",
        "    private double radio;\n",
        "\n",
        "    public Circulo(double radio) {\n",
        "        this.radio = radio;\n",
        "    }\n",
        "\n",
        "    public double calcularArea() {\n",
        "        return Math.PI * radio * radio;\n",
        "    }\n",
        "}\n",
        "\n",
        "class Rectangulo extends Forma {\n",
        "    private double largo, ancho;\n",
        "\n",
        "    public Rectangulo(double largo, double ancho) {\n",
        "        this.largo = largo;\n",
        "        this.ancho = ancho;\n",
        "    }\n",
        "\n",
        "    public double calcularArea() {\n",
        "        return largo * ancho;\n",
        "    }\n",
        "}\n"
      ],
      "metadata": {
        "id": "tLZbh1N2tqT6"
      },
      "execution_count": null,
      "outputs": []
    },
    {
      "cell_type": "markdown",
      "source": [
        "3"
      ],
      "metadata": {
        "id": "cVQaAAQmtuoR"
      }
    },
    {
      "cell_type": "code",
      "source": [
        "public class Main {\n",
        "    public static void main(String[] args) {\n",
        "        Forma circulo = new Circulo(5); // Radio 5\n",
        "        Forma rectangulo = new Rectangulo(4, 6); // Largo 4, Ancho 6\n",
        "\n",
        "        System.out.printf(\"Área del círculo: %.2f\\n\", circulo.calcularArea());\n",
        "        System.out.println(\"Área del rectángulo: \" + rectangulo.calcularArea());\n",
        "    }\n",
        "}\n"
      ],
      "metadata": {
        "id": "8MZbHrh6txvN"
      },
      "execution_count": null,
      "outputs": []
    },
    {
      "cell_type": "markdown",
      "source": [
        "4"
      ],
      "metadata": {
        "id": "fQ2njOmdtyGB"
      }
    },
    {
      "cell_type": "code",
      "source": [
        "class Calculadora {\n",
        "    public int operar(int a, int b) {\n",
        "        return a + b;\n",
        "    }\n",
        "\n",
        "    public int operar(int a, int b, int c) {\n",
        "        return a + b + c;\n",
        "    }\n",
        "\n",
        "    public int operar(int a, int b, String operacion) {\n",
        "        if (\"multiplicar\".equalsIgnoreCase(operacion)) {\n",
        "            return a * b;\n",
        "        }\n",
        "        return a + b;\n",
        "    }\n",
        "}\n"
      ],
      "metadata": {
        "id": "pzXtZhGhtywZ"
      },
      "execution_count": null,
      "outputs": []
    },
    {
      "cell_type": "markdown",
      "source": [
        "5"
      ],
      "metadata": {
        "id": "hGe7c5gHt0-R"
      }
    },
    {
      "cell_type": "code",
      "source": [
        "abstract class Figura {\n",
        "    public abstract void dibujar();\n",
        "}\n",
        "\n",
        "class CirculoFigura extends Figura {\n",
        "    public void dibujar() {\n",
        "        System.out.println(\"Dibujando un círculo.\");\n",
        "    }\n",
        "}\n",
        "\n",
        "class RectanguloFigura extends Figura {\n",
        "    public void dibujar() {\n",
        "        System.out.println(\"Dibujando un rectángulo.\");\n",
        "    }\n",
        "}\n"
      ],
      "metadata": {
        "id": "J_kQN3qet1lZ"
      },
      "execution_count": null,
      "outputs": []
    },
    {
      "cell_type": "markdown",
      "source": [
        "6"
      ],
      "metadata": {
        "id": "4aaN2s9Zt2Zp"
      }
    },
    {
      "cell_type": "code",
      "source": [
        "abstract class Empleado {\n",
        "    public abstract void trabajar();\n",
        "}\n",
        "\n",
        "class Gerente extends Empleado {\n",
        "    public void trabajar() {\n",
        "        System.out.println(\"El gerente organiza reuniones.\");\n",
        "    }\n",
        "}\n",
        "\n",
        "class Desarrollador extends Empleado {\n",
        "    public void trabajar() {\n",
        "        System.out.println(\"El desarrollador escribe código.\");\n",
        "    }\n",
        "}\n"
      ],
      "metadata": {
        "id": "wZqQREr8t4Di"
      },
      "execution_count": null,
      "outputs": []
    },
    {
      "cell_type": "code",
      "source": [
        "7"
      ],
      "metadata": {
        "id": "wUowT_jet8AR"
      },
      "execution_count": null,
      "outputs": []
    },
    {
      "cell_type": "code",
      "source": [
        "abstract class Fruta {\n",
        "    public abstract void describir();\n",
        "}\n",
        "\n",
        "class Manzana extends Fruta {\n",
        "    public void describir() {\n",
        "        System.out.println(\"La manzana es dulce y crujiente.\");\n",
        "    }\n",
        "}\n",
        "\n",
        "class Naranja extends Fruta {\n",
        "    public void describir() {\n",
        "        System.out.println(\"La naranja es cítrica y jugosa.\");\n",
        "    }\n",
        "}\n"
      ],
      "metadata": {
        "id": "RGyAmGSit55p"
      },
      "execution_count": null,
      "outputs": []
    },
    {
      "cell_type": "markdown",
      "source": [
        "8\n",
        "\n"
      ],
      "metadata": {
        "id": "84A_57Hrt90J"
      }
    },
    {
      "cell_type": "code",
      "source": [
        "class Pais {\n",
        "    private String nombre;\n",
        "    private String capital;\n",
        "\n",
        "    public Pais(String nombre, String capital) {\n",
        "        this.nombre = nombre;\n",
        "        this.capital = capital;\n",
        "    }\n",
        "\n",
        "    public void mostrarCapital() {\n",
        "        System.out.println(\"La capital de \" + nombre + \" es \" + capital + \".\");\n",
        "    }\n",
        "}\n"
      ],
      "metadata": {
        "id": "rCWkb1XuuA25"
      },
      "execution_count": null,
      "outputs": []
    },
    {
      "cell_type": "markdown",
      "source": [
        "9"
      ],
      "metadata": {
        "id": "3vMfrBsquDpB"
      }
    },
    {
      "cell_type": "code",
      "source": [
        "abstract class PaisIdioma {\n",
        "    public abstract void idioma();\n",
        "}\n",
        "\n",
        "class Mexico extends PaisIdioma {\n",
        "    public void idioma() {\n",
        "        System.out.println(\"El idioma principal en México es español.\");\n",
        "    }\n",
        "}\n",
        "\n",
        "class Alemania extends PaisIdioma {\n",
        "    public void idioma() {\n",
        "        System.out.println(\"El idioma principal en Alemania es alemán.\");\n",
        "    }\n",
        "}\n"
      ],
      "metadata": {
        "id": "khbHUUB9uETd"
      },
      "execution_count": null,
      "outputs": []
    },
    {
      "cell_type": "markdown",
      "source": [
        "10"
      ],
      "metadata": {
        "id": "_KtTjCYQuGV6"
      }
    },
    {
      "cell_type": "code",
      "source": [
        "abstract class Vehiculo {\n",
        "    public abstract void mover();\n",
        "}\n",
        "\n",
        "class Avion extends Vehiculo {\n",
        "    public void mover() {\n",
        "        System.out.println(\"El avión vuela por el cielo.\");\n",
        "    }\n",
        "}\n",
        "\n",
        "class Coche extends Vehiculo {\n",
        "    public void mover() {\n",
        "        System.out.println(\"El coche se mueve por la carretera.\");\n",
        "    }\n",
        "}\n"
      ],
      "metadata": {
        "id": "IyNHp38-uHGR"
      },
      "execution_count": null,
      "outputs": []
    }
  ]
}